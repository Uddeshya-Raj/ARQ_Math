{
 "cells": [
  {
   "cell_type": "code",
   "execution_count": 1,
   "id": "aed73e98",
   "metadata": {},
   "outputs": [
    {
     "name": "stdout",
     "output_type": "stream",
     "text": [
      "\\\\frac\\{Q}\\{D}\n"
     ]
    }
   ],
   "source": [
    "import re\n",
    "\n",
    "def addEscapeSequence(math_exp):\n",
    "    chars = ['.', '^', '$', '*', '+', '?','(', ')', '\\\\', '[', '{', '|', '-', ']']\n",
    "    new_exp = ''\n",
    "    for ch in math_exp:\n",
    "        if ch in chars:\n",
    "            new_exp += '\\\\' + ch\n",
    "        else:\n",
    "            new_exp += ch\n",
    "    return new_exp\n",
    "        \n",
    "        \n",
    "print(addEscapeSequence('\\\\frac{Q}{D}'))"
   ]
  },
  {
   "cell_type": "code",
   "execution_count": 2,
   "id": "63aab10f",
   "metadata": {},
   "outputs": [],
   "source": [
    "# def replaceNumbers(math_exp):\n",
    "#     new_exp = ''\n",
    "#     for idx in range(len(math_exp)):\n",
    "#         if (math_exp[idx].isdigit() == False):\n",
    "#             new_exp += math_exp[idx]\n",
    "#         elif(math_exp[idx].isdigit() == True):\n",
    "#             if((idx == len(math_exp)-1) or (math_exp[idx+1].isdigit() == False)):\n",
    "#                 new_exp += '(((\\+|-)?([0-9]+)(\\.[0-9]+)?)|((\\+|-)?\\.?[0-9]+))'\n",
    "#             else:\n",
    "#                 continue\n",
    "#     return new_exp\n",
    "    \n",
    "# print(replaceNumbers(addEscapeSequence('a^{2}+b^{2}')))            "
   ]
  },
  {
   "cell_type": "code",
   "execution_count": 3,
   "id": "f32c3656",
   "metadata": {},
   "outputs": [
    {
     "name": "stdout",
     "output_type": "stream",
     "text": [
      "a\\^\\{(((\\+|-)?([0-9]+)(\\.[0-9]+)?)|((\\+|-)?\\.?[0-9]+))}\\+b\\^\\{(((\\+|-)?([0-9]+)(\\.[0-9]+)?)|((\\+|-)?\\.?[0-9]+))}\n"
     ]
    }
   ],
   "source": [
    "def replaceNumbers(math_exp):\n",
    "    new_exp = ''\n",
    "    regex = re.compile(r'(((\\+|-)?([0-9]+)(\\.[0-9]+)?)|((\\+|-)?\\.?[0-9]+))')\n",
    "    new_exp = re.sub(regex, '(((\\+|-)?([0-9]+)(\\.[0-9]+)?)|((\\+|-)?\\.?[0-9]+))', math_exp)\n",
    "    return new_exp\n",
    "\n",
    "print(replaceNumbers(addEscapeSequence('a^{2}+b^{2}')))"
   ]
  },
  {
   "cell_type": "code",
   "execution_count": 4,
   "id": "a46af289",
   "metadata": {},
   "outputs": [
    {
     "name": "stdout",
     "output_type": "stream",
     "text": [
      "[a-zA-Z]+\\^\\{(((\\+|-)?([0-9]+)(\\.[0-9]+)?)|((\\+|-)?\\.?[0-9]+))}\\+[a-zA-Z]+\\^\\{(((\\+|-)?([0-9]+)(\\.[0-9]+)?)|((\\+|-)?\\.?[0-9]+))}\n"
     ]
    }
   ],
   "source": [
    "def replaceVariables(math_exp):\n",
    "    new_exp = ''\n",
    "    regex = re.compile(r'[a-zA-Z]+')\n",
    "    new_exp = re.sub(regex, '[a-zA-Z]+', math_exp)\n",
    "    return new_exp\n",
    "\n",
    "print(replaceVariables(replaceNumbers(addEscapeSequence('a^{2}+b^{2}'))))"
   ]
  },
  {
   "cell_type": "code",
   "execution_count": 5,
   "id": "b19b5b84",
   "metadata": {},
   "outputs": [],
   "source": [
    "def replaceNonTags(math_exp):\n",
    "    return replaceVariables(replaceNumbers(addEscapeSequence(math_exp)))"
   ]
  },
  {
   "cell_type": "code",
   "execution_count": 6,
   "id": "3deb3e5d",
   "metadata": {
    "scrolled": true
   },
   "outputs": [
    {
     "name": "stdout",
     "output_type": "stream",
     "text": [
      "[a-zA-Z]+\\\\frac\\{\\\\tanh\\{(((\\+|-)?([0-9]+)(\\.[0-9]+)?)|((\\+|-)?\\.?[0-9]+))}}\\{\\\\log_2\\{[a-zA-Z]+}}\n"
     ]
    }
   ],
   "source": [
    "def processTagsAndVariables(math_exp):\n",
    "    tag_set = set(['frac', 'tan', 'log_2', 'tanh'])\n",
    "    new_exp = ''\n",
    "    breaks = [0]\n",
    "    \n",
    "    for idx in range(len(math_exp)):\n",
    "        if(math_exp[idx] == '\\\\'):\n",
    "            breaks.append(idx)\n",
    "            \n",
    "    breaks.append(len(math_exp))\n",
    "    \n",
    "    for idx in range(len(breaks)-1):\n",
    "        start = breaks[idx]\n",
    "        end = breaks[idx+1]\n",
    "        sub_exp = math_exp[start:end]\n",
    "        start = 0\n",
    "        new_sub_exp = ''\n",
    "        if(sub_exp == '\\\\'):\n",
    "            new_exp += sub_exp\n",
    "            continue\n",
    "        elif(len(sub_exp) and sub_exp[0] == '\\\\'):\n",
    "            new_sub_exp += '\\\\'\n",
    "            start = 1\n",
    "        found = False\n",
    "        for pos in reversed(range(start, len(sub_exp))):\n",
    "            if(sub_exp[start:pos+1] in tag_set):\n",
    "                found = True\n",
    "                new_sub_exp += sub_exp[:pos+1]+replaceNonTags(sub_exp[pos+1:])\n",
    "                break\n",
    "        if(not found):\n",
    "            new_sub_exp = replaceVariables(sub_exp)\n",
    "        new_exp += new_sub_exp\n",
    "    \n",
    "    return new_exp\n",
    "            \n",
    "                \n",
    "             \n",
    "\n",
    "math_exp = 'whole\\\\frac{\\\\tanh{45}}{\\\\log_2{denominator}}'\n",
    "print(processTagsAndVariables(math_exp))"
   ]
  },
  {
   "cell_type": "code",
   "execution_count": 7,
   "id": "9af68096",
   "metadata": {},
   "outputs": [],
   "source": [
    "#abstraction"
   ]
  },
  {
   "cell_type": "code",
   "execution_count": 8,
   "id": "916b9772",
   "metadata": {},
   "outputs": [],
   "source": [
    "def create_all_regexes(input_regex, regexes):\n",
    "    stack = []\n",
    "    for i in range(len(input_regex)):\n",
    "        if (input_regex[i:i+2] == '\\\\{'):\n",
    "            stack.append(i+1)\n",
    "        elif (input_regex[i] == '}'):\n",
    "            new_regex = input_regex[0:stack[-1]+1]+'.+?'+input_regex[i:]\n",
    "            if new_regex in regexes:\n",
    "                return\n",
    "            regexes.add(new_regex)\n",
    "            create_all_regexes(new_regex, regexes)\n",
    "            del stack[-1]\n"
   ]
  },
  {
   "cell_type": "code",
   "execution_count": 10,
   "id": "7b7f07b8",
   "metadata": {},
   "outputs": [
    {
     "name": "stdout",
     "output_type": "stream",
     "text": [
      "[a-zA-Z]+\\\\frac\\{\\\\tanh\\{.+?}}\\{.+?}\n",
      "[a-zA-Z]+\\\\frac\\{.+?}\\{\\\\log_2\\{.+?}}\n",
      "[a-zA-Z]+\\\\frac\\{.+?}\\{\\\\log_2\\{[a-zA-Z]+}}\n",
      "[a-zA-Z]+\\\\frac\\{\\\\tanh\\{(((\\+|-)?([0-9]+)(\\.[0-9]+)?)|((\\+|-)?\\.?[0-9]+))}}\\{\\\\log_2\\{.+?}}\n",
      "[a-zA-Z]+\\\\frac\\{.+?}\\{.+?}\n",
      "[a-zA-Z]+\\\\frac\\{\\\\tanh\\{.+?}}\\{\\\\log_2\\{.+?}}\n",
      "[a-zA-Z]+\\\\frac\\{\\\\tanh\\{(((\\+|-)?([0-9]+)(\\.[0-9]+)?)|((\\+|-)?\\.?[0-9]+))}}\\{.+?}\n",
      "[a-zA-Z]+\\\\frac\\{\\\\tanh\\{.+?}}\\{\\\\log_2\\{[a-zA-Z]+}}\n",
      "[a-zA-Z]+\\\\frac\\{\\\\tanh\\{(((\\+|-)?([0-9]+)(\\.[0-9]+)?)|((\\+|-)?\\.?[0-9]+))}}\\{\\\\log_2\\{[a-zA-Z]+}}\n"
     ]
    }
   ],
   "source": [
    "og = processTagsAndVariables(math_exp)\n",
    "all_regex = set()\n",
    "all_regex.add(og)\n",
    "create_all_regexes(og, all_regex)\n",
    "for regex in all_regex:\n",
    "    print(regex)"
   ]
  },
  {
   "cell_type": "code",
   "execution_count": null,
   "id": "d514dc79",
   "metadata": {},
   "outputs": [],
   "source": []
  }
 ],
 "metadata": {
  "kernelspec": {
   "display_name": "Python 3 (ipykernel)",
   "language": "python",
   "name": "python3"
  },
  "language_info": {
   "codemirror_mode": {
    "name": "ipython",
    "version": 3
   },
   "file_extension": ".py",
   "mimetype": "text/x-python",
   "name": "python",
   "nbconvert_exporter": "python",
   "pygments_lexer": "ipython3",
   "version": "3.10.11"
  }
 },
 "nbformat": 4,
 "nbformat_minor": 5
}
